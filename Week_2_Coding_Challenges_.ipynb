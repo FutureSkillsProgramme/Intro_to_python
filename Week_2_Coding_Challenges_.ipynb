{
  "nbformat": 4,
  "nbformat_minor": 0,
  "metadata": {
    "colab": {
      "name": "Week_2_Coding_Challenges_.ipynb",
      "provenance": [],
      "collapsed_sections": [],
      "include_colab_link": true
    },
    "kernelspec": {
      "name": "python3",
      "display_name": "Python 3"
    }
  },
  "cells": [
    {
      "cell_type": "markdown",
      "metadata": {
        "id": "view-in-github",
        "colab_type": "text"
      },
      "source": [
        "<a href=\"https://colab.research.google.com/github/FutureSkillsProgramme/Intro_to_python/blob/master/Week_2_Coding_Challenges_.ipynb\" target=\"_parent\"><img src=\"https://colab.research.google.com/assets/colab-badge.svg\" alt=\"Open In Colab\"/></a>"
      ]
    },
    {
      "cell_type": "markdown",
      "metadata": {
        "id": "9kW2TTyo0Qk0",
        "colab_type": "text"
      },
      "source": [
        "## Week 2: Exercises "
      ]
    },
    {
      "cell_type": "markdown",
      "metadata": {
        "id": "uMiSDcZ3yq6o",
        "colab_type": "text"
      },
      "source": [
        "**Task 1:**(*) \\\\\n",
        "\n"
      ]
    },
    {
      "cell_type": "code",
      "metadata": {
        "id": "-1o_xFawypyn",
        "colab_type": "code",
        "colab": {}
      },
      "source": [
        "#Complete Task 1 Here\n",
        "\n",
        "\n"
      ],
      "execution_count": null,
      "outputs": []
    },
    {
      "cell_type": "markdown",
      "metadata": {
        "id": "uuJsP1xszdw3",
        "colab_type": "text"
      },
      "source": [
        "**Task 2:**(**) \\\\\n"
      ]
    },
    {
      "cell_type": "code",
      "metadata": {
        "id": "wZ4vU0S-zb25",
        "colab_type": "code",
        "colab": {}
      },
      "source": [
        "#Complete Task 2 Here\n",
        "\n",
        "\n"
      ],
      "execution_count": null,
      "outputs": []
    },
    {
      "cell_type": "markdown",
      "metadata": {
        "id": "VfBXsBFg0cK3",
        "colab_type": "text"
      },
      "source": [
        "**Task 3:**(***) \\\\\n",
        "\n"
      ]
    },
    {
      "cell_type": "code",
      "metadata": {
        "id": "x4LqF9ia28M3",
        "colab_type": "code",
        "colab": {}
      },
      "source": [
        "#Complete Task 3 Here\n",
        "\n"
      ],
      "execution_count": null,
      "outputs": []
    }
  ]
}