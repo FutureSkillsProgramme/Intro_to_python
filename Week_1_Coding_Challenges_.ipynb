{
  "nbformat": 4,
  "nbformat_minor": 0,
  "metadata": {
    "colab": {
      "name": "Week 1 : Coding Challenges .ipynb",
      "provenance": [],
      "collapsed_sections": [],
      "authorship_tag": "ABX9TyPMXRaxgPDze1k/bbDC6W9A",
      "include_colab_link": true
    },
    "kernelspec": {
      "name": "python3",
      "display_name": "Python 3"
    }
  },
  "cells": [
    {
      "cell_type": "markdown",
      "metadata": {
        "id": "view-in-github",
        "colab_type": "text"
      },
      "source": [
        "<a href=\"https://colab.research.google.com/github/FutureSkillsProgramme/Intro_to_python/blob/master/Week_1_Coding_Challenges_.ipynb\" target=\"_parent\"><img src=\"https://colab.research.google.com/assets/colab-badge.svg\" alt=\"Open In Colab\"/></a>"
      ]
    },
    {
      "cell_type": "markdown",
      "metadata": {
        "id": "uMiSDcZ3yq6o",
        "colab_type": "text"
      },
      "source": [
        "**Task 1: Writing your first program**(*) \\\\\n",
        "Its time to write your first program! Use the print function write your name to the screen.\n",
        "\n"
      ]
    },
    {
      "cell_type": "code",
      "metadata": {
        "id": "-1o_xFawypyn",
        "colab_type": "code",
        "colab": {}
      },
      "source": [
        "#Complete Task 1 Here"
      ],
      "execution_count": null,
      "outputs": []
    },
    {
      "cell_type": "markdown",
      "metadata": {
        "id": "uuJsP1xszdw3",
        "colab_type": "text"
      },
      "source": [
        "**Task 2: Using Variables**(**) \\\\\n",
        "Create a variable called my_name and assign your name. Also, create a variable called my_age and assign your age. Then print your name and age (e.g my name is _ and I am __ years old).\n",
        "\n",
        "*Can you assign both the variables at the same time?*"
      ]
    },
    {
      "cell_type": "code",
      "metadata": {
        "id": "wZ4vU0S-zb25",
        "colab_type": "code",
        "colab": {}
      },
      "source": [
        "#Complete Task 2 Here "
      ],
      "execution_count": null,
      "outputs": []
    },
    {
      "cell_type": "markdown",
      "metadata": {
        "id": "VfBXsBFg0cK3",
        "colab_type": "text"
      },
      "source": [
        "**Task 3: Using Logical Operators**(***) \\\\\n",
        "Start by defining distance_to_campus = float(input('enter distance: ')) and catered = bool(input('Catered? True or False: ')). \\\\\n",
        "\n",
        "Tim wants to live less than 2km away from campus in a catered hall, build a program so that Tim can check a Hall he inputs quickly. The program should print the bool value. \n"
      ]
    },
    {
      "cell_type": "code",
      "metadata": {
        "id": "x4LqF9ia28M3",
        "colab_type": "code",
        "colab": {}
      },
      "source": [
        "#Complete Task 3 Here\n",
        "distance_to_campus = float(input('enter distance: '))\n",
        "catered = bool(input('Catered? True or False: '))\n",
        "\n"
      ],
      "execution_count": null,
      "outputs": []
    }
  ]
}